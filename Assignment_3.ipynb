{
  "nbformat": 4,
  "nbformat_minor": 0,
  "metadata": {
    "colab": {
      "provenance": []
    },
    "kernelspec": {
      "name": "python3",
      "display_name": "Python 3"
    },
    "language_info": {
      "name": "python"
    }
  },
  "cells": [
    {
      "cell_type": "code",
      "execution_count": null,
      "metadata": {
        "id": "cAjWicfAEHZf"
      },
      "outputs": [],
      "source": [
        "Part2-Implement the Game Strategy Algorithms\n",
        "1. Implement the MINMax Search Algorithm"
      ]
    },
    {
      "cell_type": "code",
      "source": [
        "def minmax_search(game,state):\n",
        "  player=state.to_move\n",
        "\n",
        "  def max_value(state):\n",
        "    if game.is_terminal(state):\n",
        "      return game.utility(state,player),None\n",
        "      v, move =-infinity, None\n",
        "      for a in game.actions(state):\n",
        "        v2, _ =min_value(game.result(state,a))\n",
        "        if v2 > v:\n",
        "          v,move=v2,a\n",
        "          return v, move\n",
        "\n",
        "def min_value(state):\n",
        "  if game.is_terminal(state):\n",
        "    return game.utility(state,player), None\n",
        "    v, move=+infinity,None\n",
        "    for a in game.actions(state):\n",
        "      v2, _ = max_value(game.result(state,a))\n",
        "      if v2<v:\n",
        "        v, move=v2,a\n",
        "        return v,move\n",
        "\n",
        "        return max.value(state)\n",
        "        infintiy = math.inf"
      ],
      "metadata": {
        "id": "mlWnmRl-KYcq"
      },
      "execution_count": 2,
      "outputs": []
    },
    {
      "cell_type": "markdown",
      "source": [],
      "metadata": {
        "id": "YMCSbfEeEIsr"
      }
    }
  ]
}